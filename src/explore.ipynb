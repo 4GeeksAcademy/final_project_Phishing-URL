{
    "cells": [
        {
            "cell_type": "markdown",
            "metadata": {},
            "source": [
                "# Explore here"
            ]
        },
        {
            "cell_type": "code",
            "execution_count": 17,
            "metadata": {},
            "outputs": [],
            "source": [
                "# Your code here\n",
                "\n",
                "# Esto es una prueba\n",
                "#ahi la otra prueba\n",
                "# Este equipo como mola, se merece una ola!!!!\n",
                "\n",
                "# A ver si ahora muestra mi cambio!\n",
                "\n",
                "# Lery, este es mi cambio.\n",
                "#me toca, a ver si ahora puede ser\n",
                "\n"
            ]
        },
        {
            "cell_type": "markdown",
            "metadata": {},
            "source": [
                "# LERY"
            ]
        },
        {
            "cell_type": "code",
            "execution_count": 18,
            "metadata": {},
            "outputs": [
                {
                    "name": "stdout",
                    "output_type": "stream",
                    "text": [
                        "ESTA ZONA ES MIA!!!!\n"
                    ]
                }
            ],
            "source": [
                "import numpy as np\n",
                "\n",
                "print (\"ESTA ZONA ES MIA!!!!\")\n"
            ]
        },
        {
            "cell_type": "markdown",
            "metadata": {},
            "source": [
                "# Juli"
            ]
        },
        {
            "cell_type": "code",
            "execution_count": 19,
            "metadata": {},
            "outputs": [
                {
                    "name": "stdout",
                    "output_type": "stream",
                    "text": [
                        "Aquí estoy!!\n"
                    ]
                }
            ],
            "source": [
                "import pandas as pd\n",
                "\n",
                "print (\"Aquí estoy!!\")"
            ]
        },
        {
            "cell_type": "code",
            "execution_count": 20,
            "metadata": {},
            "outputs": [
                {
                    "name": "stdout",
                    "output_type": "stream",
                    "text": [
                        "hola\n"
                    ]
                }
            ],
            "source": [
                "print(\"hola\")"
            ]
        },
        {
            "cell_type": "markdown",
            "metadata": {},
            "source": [
                "##Fructu"
            ]
        },
        {
            "cell_type": "code",
            "execution_count": 21,
            "metadata": {},
            "outputs": [
                {
                    "name": "stdout",
                    "output_type": "stream",
                    "text": [
                        "{'uci_id': 967, 'name': 'PhiUSIIL Phishing URL (Website)', 'repository_url': 'https://archive.ics.uci.edu/dataset/967/phiusiil+phishing+url+dataset', 'data_url': 'https://archive.ics.uci.edu/static/public/967/data.csv', 'abstract': 'PhiUSIIL Phishing URL Dataset is a substantial dataset comprising 134,850 legitimate and 100,945 phishing URLs. Most of the URLs we analyzed, while constructing the dataset, are the latest URLs. Features are extracted from the source code of the webpage and URL. Features such as CharContinuationRate, URLTitleMatchScore, URLCharProb, and TLDLegitimateProb are derived from existing features.', 'area': 'Computer Science', 'tasks': ['Classification'], 'characteristics': ['Tabular'], 'num_instances': 235795, 'num_features': 54, 'feature_types': ['Real', 'Categorical', 'Integer'], 'demographics': [], 'target_col': ['label'], 'index_col': None, 'has_missing_values': 'no', 'missing_values_symbol': None, 'year_of_dataset_creation': 2024, 'last_updated': 'Sun May 12 2024', 'dataset_doi': 'https://doi.org/10.1016/j.cose.2023.103545', 'creators': ['Arvind Prasad', 'Shalini Chandra'], 'intro_paper': {'title': 'PhiUSIIL: A diverse security profile empowered phishing URL detection framework based on similarity index and incremental learning', 'authors': 'Arvind Prasad and Shalini Chandra', 'published_in': 'Computers & Security', 'year': 2024, 'url': 'https://doi.org/10.1016/j.cose.2023.103545', 'doi': None}, 'additional_info': {'summary': None, 'purpose': None, 'funded_by': None, 'instances_represent': 'URLs and their corresponding webpages', 'recommended_data_splits': None, 'sensitive_data': None, 'preprocessing_description': None, 'variable_info': 'Column \"FILENAME\" can be ignored.', 'citation': 'Prasad, A., & Chandra, S. (2023). PhiUSIIL: A diverse security profile empowered phishing URL detection framework based on similarity index and incremental learning. Computers & Security, 103545. doi: https://doi.org/10.1016/j.cose.2023.103545'}}\n",
                        "                          name     role         type demographic description  \\\n",
                        "0                     FILENAME    Other  Categorical        None        None   \n",
                        "1                          URL  Feature  Categorical        None        None   \n",
                        "2                    URLLength  Feature      Integer        None        None   \n",
                        "3                       Domain  Feature  Categorical        None        None   \n",
                        "4                 DomainLength  Feature      Integer        None        None   \n",
                        "5                   IsDomainIP  Feature      Integer        None        None   \n",
                        "6                          TLD  Feature  Categorical        None        None   \n",
                        "7           URLSimilarityIndex  Feature      Integer        None        None   \n",
                        "8         CharContinuationRate  Feature      Integer        None        None   \n",
                        "9            TLDLegitimateProb  Feature   Continuous        None        None   \n",
                        "10                 URLCharProb  Feature   Continuous        None        None   \n",
                        "11                   TLDLength  Feature      Integer        None        None   \n",
                        "12               NoOfSubDomain  Feature      Integer        None        None   \n",
                        "13              HasObfuscation  Feature      Integer        None        None   \n",
                        "14          NoOfObfuscatedChar  Feature      Integer        None        None   \n",
                        "15            ObfuscationRatio  Feature      Integer        None        None   \n",
                        "16            NoOfLettersInURL  Feature      Integer        None        None   \n",
                        "17            LetterRatioInURL  Feature   Continuous        None        None   \n",
                        "18             NoOfDegitsInURL  Feature      Integer        None        None   \n",
                        "19             DegitRatioInURL  Feature      Integer        None        None   \n",
                        "20             NoOfEqualsInURL  Feature      Integer        None        None   \n",
                        "21              NoOfQMarkInURL  Feature      Integer        None        None   \n",
                        "22          NoOfAmpersandInURL  Feature      Integer        None        None   \n",
                        "23  NoOfOtherSpecialCharsInURL  Feature      Integer        None        None   \n",
                        "24       SpacialCharRatioInURL  Feature   Continuous        None        None   \n",
                        "25                     IsHTTPS  Feature      Integer        None        None   \n",
                        "26                  LineOfCode  Feature      Integer        None        None   \n",
                        "27           LargestLineLength  Feature      Integer        None        None   \n",
                        "28                    HasTitle  Feature      Integer        None        None   \n",
                        "29                       Title  Feature  Categorical        None        None   \n",
                        "30       DomainTitleMatchScore  Feature      Integer        None        None   \n",
                        "31          URLTitleMatchScore  Feature      Integer        None        None   \n",
                        "32                  HasFavicon  Feature      Integer        None        None   \n",
                        "33                      Robots  Feature      Integer        None        None   \n",
                        "34                IsResponsive  Feature      Integer        None        None   \n",
                        "35             NoOfURLRedirect  Feature      Integer        None        None   \n",
                        "36            NoOfSelfRedirect  Feature      Integer        None        None   \n",
                        "37              HasDescription  Feature      Integer        None        None   \n",
                        "38                   NoOfPopup  Feature      Integer        None        None   \n",
                        "39                  NoOfiFrame  Feature      Integer        None        None   \n",
                        "40       HasExternalFormSubmit  Feature      Integer        None        None   \n",
                        "41                HasSocialNet  Feature      Integer        None        None   \n",
                        "42             HasSubmitButton  Feature      Integer        None        None   \n",
                        "43             HasHiddenFields  Feature      Integer        None        None   \n",
                        "44            HasPasswordField  Feature      Integer        None        None   \n",
                        "45                        Bank  Feature      Integer        None        None   \n",
                        "46                         Pay  Feature      Integer        None        None   \n",
                        "47                      Crypto  Feature      Integer        None        None   \n",
                        "48            HasCopyrightInfo  Feature      Integer        None        None   \n",
                        "49                   NoOfImage  Feature      Integer        None        None   \n",
                        "50                     NoOfCSS  Feature      Integer        None        None   \n",
                        "51                      NoOfJS  Feature      Integer        None        None   \n",
                        "52                 NoOfSelfRef  Feature      Integer        None        None   \n",
                        "53                NoOfEmptyRef  Feature      Integer        None        None   \n",
                        "54             NoOfExternalRef  Feature      Integer        None        None   \n",
                        "55                       label   Target      Integer        None        None   \n",
                        "\n",
                        "   units missing_values  \n",
                        "0   None             no  \n",
                        "1   None             no  \n",
                        "2   None             no  \n",
                        "3   None             no  \n",
                        "4   None             no  \n",
                        "5   None             no  \n",
                        "6   None             no  \n",
                        "7   None             no  \n",
                        "8   None             no  \n",
                        "9   None             no  \n",
                        "10  None             no  \n",
                        "11  None             no  \n",
                        "12  None             no  \n",
                        "13  None             no  \n",
                        "14  None             no  \n",
                        "15  None             no  \n",
                        "16  None             no  \n",
                        "17  None             no  \n",
                        "18  None             no  \n",
                        "19  None             no  \n",
                        "20  None             no  \n",
                        "21  None             no  \n",
                        "22  None             no  \n",
                        "23  None             no  \n",
                        "24  None             no  \n",
                        "25  None             no  \n",
                        "26  None             no  \n",
                        "27  None             no  \n",
                        "28  None             no  \n",
                        "29  None             no  \n",
                        "30  None             no  \n",
                        "31  None             no  \n",
                        "32  None             no  \n",
                        "33  None             no  \n",
                        "34  None             no  \n",
                        "35  None             no  \n",
                        "36  None             no  \n",
                        "37  None             no  \n",
                        "38  None             no  \n",
                        "39  None             no  \n",
                        "40  None             no  \n",
                        "41  None             no  \n",
                        "42  None             no  \n",
                        "43  None             no  \n",
                        "44  None             no  \n",
                        "45  None             no  \n",
                        "46  None             no  \n",
                        "47  None             no  \n",
                        "48  None             no  \n",
                        "49  None             no  \n",
                        "50  None             no  \n",
                        "51  None             no  \n",
                        "52  None             no  \n",
                        "53  None             no  \n",
                        "54  None             no  \n",
                        "55  None             no  \n"
                    ]
                }
            ],
            "source": [
                "from ucimlrepo import fetch_ucirepo \n",
                "import pandas as pd\n",
                "  \n",
                "# fetch dataset \n",
                "phiusiil_phishing_url_website = fetch_ucirepo(id=967) \n",
                "  \n",
                "# data (as pandas dataframes) \n",
                "X = phiusiil_phishing_url_website.data.features \n",
                "y = phiusiil_phishing_url_website.data.targets \n",
                "  \n",
                "# metadata \n",
                "print(phiusiil_phishing_url_website.metadata) \n",
                "  \n",
                "# variable information \n",
                "print(phiusiil_phishing_url_website.variables) \n"
            ]
        }
    ],
    "metadata": {
        "kernelspec": {
            "display_name": "Python 3.8.13 64-bit ('3.8.13')",
            "language": "python",
            "name": "python3"
        },
        "language_info": {
            "codemirror_mode": {
                "name": "ipython",
                "version": 3
            },
            "file_extension": ".py",
            "mimetype": "text/x-python",
            "name": "python",
            "nbconvert_exporter": "python",
            "pygments_lexer": "ipython3",
            "version": "3.10.12"
        },
        "orig_nbformat": 4,
        "vscode": {
            "interpreter": {
                "hash": "110cc1dee26208153f2972f08a2ad52b6a56238dc66d48e87fb757ef2996db56"
            }
        }
    },
    "nbformat": 4,
    "nbformat_minor": 2
}
