{
    "cells": [
        {
            "cell_type": "markdown",
            "metadata": {},
            "source": [
                "# Explore here"
            ]
        },
        {
            "cell_type": "code",
            "execution_count": null,
            "metadata": {},
            "outputs": [],
            "source": [
                "# Your code here\n",
                "\n",
                "# Esto es una prueba\n",
                "#ahi la otra prueba\n",
                "# Este equipo como mola, se merece una ola!!!!\n",
                "\n",
                "# A ver si ahora muestra mi cambio!\n",
                "\n",
                "# Lery, este es mi cambio."
            ]
        },
        {
            "cell_type": "markdown",
            "metadata": {},
            "source": [
                "# LERY"
            ]
        },
        {
            "cell_type": "code",
            "execution_count": 1,
            "metadata": {},
            "outputs": [
                {
                    "name": "stdout",
                    "output_type": "stream",
                    "text": [
                        "ESTA ZONA ES MIA!!!!\n"
                    ]
                }
            ],
            "source": [
                "import numpy as np\n",
                "\n",
                "print (\"ESTA ZONA ES MIA!!!!\")\n"
            ]
        },
        {
            "cell_type": "markdown",
            "metadata": {},
            "source": [
                "# Juli"
            ]
        },
        {
            "cell_type": "code",
            "execution_count": 2,
            "metadata": {},
            "outputs": [
                {
                    "name": "stdout",
                    "output_type": "stream",
                    "text": [
                        "Aquí estoy!!\n"
                    ]
                }
            ],
            "source": [
                "import pandas as pd\n",
                "\n",
                "print (\"Aquí estoy!!\")"
            ]
        }
    ],
    "metadata": {
        "kernelspec": {
            "display_name": "Python 3.8.13 64-bit ('3.8.13')",
            "language": "python",
            "name": "python3"
        },
        "language_info": {
            "codemirror_mode": {
                "name": "ipython",
                "version": 3
            },
            "file_extension": ".py",
            "mimetype": "text/x-python",
            "name": "python",
            "nbconvert_exporter": "python",
            "pygments_lexer": "ipython3",
            "version": "3.10.12"
        },
        "orig_nbformat": 4,
        "vscode": {
            "interpreter": {
                "hash": "110cc1dee26208153f2972f08a2ad52b6a56238dc66d48e87fb757ef2996db56"
            }
        }
    },
    "nbformat": 4,
    "nbformat_minor": 2
}
